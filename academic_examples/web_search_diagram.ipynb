{
 "cells": [
  {
   "cell_type": "code",
   "execution_count": 1,
   "id": "b4e971b8",
   "metadata": {},
   "outputs": [],
   "source": [
    "import subprocess\n",
    "import sys\n",
    "from pyflowchart import *\n",
    "from graphviz import Digraph\n",
    "import os\n",
    "\n",
    "diagrams_dir = '/Users/chrissoria/documents/research/cat-llm/academic_examples'\n",
    "os.makedirs(diagrams_dir, exist_ok=True)"
   ]
  },
  {
   "cell_type": "code",
   "execution_count": 16,
   "id": "fb9e506c",
   "metadata": {},
   "outputs": [
    {
     "name": "stderr",
     "output_type": "stream",
     "text": [
      "Warning: Orthogonal edges do not currently handle edge labels. Try using xlabels.\n"
     ]
    }
   ],
   "source": [
    "from graphviz import Digraph\n",
    "\n",
    "def create_web_retrieval_flowchart():\n",
    "    dot = Digraph(comment='Web Retrieval Process', format='png')\n",
    "    dot.attr(rankdir='TB', splines='ortho')\n",
    "    dot.attr('node', shape='box', style='rounded,filled', fillcolor='lightblue')\n",
    "    \n",
    "    # Define nodes\n",
    "    dot.node('input', 'User Input:\\nColumn of data +\\nDesired information to extract', \n",
    "             fillcolor='lightyellow', style='filled')\n",
    "    \n",
    "    dot.node('construct', 'Construct Prompt:\\nIncorporate user data and\\nextraction query', \n",
    "             fillcolor='lightblue')\n",
    "    \n",
    "    dot.node('api_call', 'Attempt API Call', \n",
    "             shape='diamond', fillcolor='lightcyan', style='filled')\n",
    "    \n",
    "    # Three outcomes\n",
    "    dot.node('success_extracted', 'API Success:\\nData Successfully Extracted', \n",
    "             fillcolor='lightgreen', style='filled')\n",
    "    \n",
    "    dot.node('success_not_extracted', 'API Success:\\nData NOT Extracted', \n",
    "             fillcolor='lightyellow', style='filled')\n",
    "    \n",
    "    dot.node('failure', 'API Failure:\\nAppend Error Message\\nContinue Cycle', \n",
    "             fillcolor='coral', style='filled')\n",
    "    \n",
    "    # Node for structured output\n",
    "    dot.node('structure', 'Information or error message\\nis sorted into a structured object', \n",
    "             fillcolor='lightblue', style='filled')\n",
    "    \n",
    "    # Edges\n",
    "    dot.edge('input', 'construct')\n",
    "    dot.edge('construct', 'api_call')\n",
    "    dot.edge('api_call', 'success_extracted', label='success +\\ndata found', labelfloat='true')\n",
    "    dot.edge('api_call', 'success_not_extracted', label='success +\\ndata not found')\n",
    "    dot.edge('api_call', 'failure', label='API fails')\n",
    "    \n",
    "    # All three outcomes lead to structured object\n",
    "    dot.edge('success_extracted', 'structure')\n",
    "    dot.edge('success_not_extracted', 'structure')\n",
    "    dot.edge('failure', 'structure')\n",
    "    \n",
    "    # Loop back to beginning\n",
    "    dot.edge('structure', 'input', label='next row', constraint='false')\n",
    "    \n",
    "    # Render\n",
    "    dot.render('web_retrieval_flowchart', view=True, cleanup=True)\n",
    "    return dot\n",
    "\n",
    "dot = create_web_retrieval_flowchart()"
   ]
  }
 ],
 "metadata": {
  "kernelspec": {
   "display_name": "base",
   "language": "python",
   "name": "python3"
  },
  "language_info": {
   "codemirror_mode": {
    "name": "ipython",
    "version": 3
   },
   "file_extension": ".py",
   "mimetype": "text/x-python",
   "name": "python",
   "nbconvert_exporter": "python",
   "pygments_lexer": "ipython3",
   "version": "3.11.5"
  }
 },
 "nbformat": 4,
 "nbformat_minor": 5
}
