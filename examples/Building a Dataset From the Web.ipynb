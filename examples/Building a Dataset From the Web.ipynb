{
 "cells": [
  {
   "cell_type": "code",
   "execution_count": 3,
   "id": "1435548e",
   "metadata": {},
   "outputs": [],
   "source": [
    "import pandas as pd\n",
    "import numpy as np\n",
    "import catllm as cat\n",
    "import os\n",
    "from dotenv import load_dotenv, find_dotenv"
   ]
  },
  {
   "cell_type": "code",
   "execution_count": null,
   "id": "943487cd",
   "metadata": {},
   "outputs": [],
   "source": [
    "os.chdir('YOUR_PATH_HERE')  # Change to your desired directory\n",
    "current_directory = os.getcwd()\n",
    "print(current_directory)"
   ]
  },
  {
   "cell_type": "code",
   "execution_count": null,
   "id": "bdad96ee",
   "metadata": {},
   "outputs": [],
   "source": [
    "_ = load_dotenv(find_dotenv()) # read local .env file\n",
    "\n",
    "api_key = os.getenv(\"ANTHROPIC_API_KEY\")"
   ]
  },
  {
   "cell_type": "markdown",
   "id": "04dacd1b",
   "metadata": {},
   "source": [
    "Below we test the function to see how well the model can extract people's academic departments.\n",
    "\n",
    "Although these are technically correct, it sometimes pulls from older data (implies search question needs to be more specific)"
   ]
  },
  {
   "cell_type": "code",
   "execution_count": 7,
   "id": "4f4a7e63",
   "metadata": {},
   "outputs": [
    {
     "name": "stdout",
     "output_type": "stream",
     "text": [
      "1. Answer\n",
      "2. URL\n"
     ]
    },
    {
     "name": "stderr",
     "output_type": "stream",
     "text": [
      "Building dataset:  33%|███▎      | 1/3 [00:11<00:22, 11.04s/it]"
     ]
    },
    {
     "name": "stdout",
     "output_type": "stream",
     "text": [
      "{\n",
      "  \"answer\": \"Sociology\",\n",
      "  \"url\": \"https://christophersoria.tumblr.com/\"\n",
      "}\n"
     ]
    },
    {
     "name": "stderr",
     "output_type": "stream",
     "text": [
      "Building dataset:  67%|██████▋   | 2/3 [00:29<00:15, 15.21s/it]"
     ]
    },
    {
     "name": "stdout",
     "output_type": "stream",
     "text": [
      "Based on the search results, I can see that Matthew Stenberg is associated with the Political Science Department at UC Berkeley. The official UC Berkeley Political Science Department page confirms this information.\n",
      "\n",
      "```json\n",
      "{\n",
      "  \"answer\": \"Political Science Department\",\n",
      "  \"url\": \"https://polisci.berkeley.edu/people/person/matthew-stenberg\"\n",
      "}\n",
      "```\n"
     ]
    },
    {
     "name": "stderr",
     "output_type": "stream",
     "text": [
      "Building dataset: 100%|██████████| 3/3 [00:46<00:00, 15.46s/it]"
     ]
    },
    {
     "name": "stdout",
     "output_type": "stream",
     "text": [
      "Based on the search results, I found information about Sara Quigley at UC Berkeley. According to the official UC Berkeley Graduate Division website and other sources, Sara Quigley works in the Graduate Division as Assistant Dean for Institutional Research & Data Analytics.\n",
      "\n",
      "```json\n",
      "{\n",
      "  \"answer\": \"Graduate Division\",\n",
      "  \"url\": \"https://grad.berkeley.edu/staff/sara-quigley/\"\n",
      "}\n",
      "```\n"
     ]
    },
    {
     "name": "stderr",
     "output_type": "stream",
     "text": [
      "\n"
     ]
    },
    {
     "data": {
      "text/html": [
       "<div>\n",
       "<style scoped>\n",
       "    .dataframe tbody tr th:only-of-type {\n",
       "        vertical-align: middle;\n",
       "    }\n",
       "\n",
       "    .dataframe tbody tr th {\n",
       "        vertical-align: top;\n",
       "    }\n",
       "\n",
       "    .dataframe thead th {\n",
       "        text-align: right;\n",
       "    }\n",
       "</style>\n",
       "<table border=\"1\" class=\"dataframe\">\n",
       "  <thead>\n",
       "    <tr style=\"text-align: right;\">\n",
       "      <th></th>\n",
       "      <th>survey_response</th>\n",
       "      <th>link1</th>\n",
       "      <th>json</th>\n",
       "      <th>answer</th>\n",
       "      <th>url</th>\n",
       "    </tr>\n",
       "  </thead>\n",
       "  <tbody>\n",
       "    <tr>\n",
       "      <th>0</th>\n",
       "      <td>Chris Soria</td>\n",
       "      <td>{\\n  \"answer\": \"Sociology\",\\n  \"url\": \"https:/...</td>\n",
       "      <td>{\"answer\": \"Sociology\", \"url\": \"https://christ...</td>\n",
       "      <td>Sociology</td>\n",
       "      <td>https://christophersoria.tumblr.com/</td>\n",
       "    </tr>\n",
       "    <tr>\n",
       "      <th>1</th>\n",
       "      <td>Matthew Stenberg</td>\n",
       "      <td>Based on the search results, I can see that Ma...</td>\n",
       "      <td>{\"answer\": \"Political Science Department\", \"ur...</td>\n",
       "      <td>Political Science Department</td>\n",
       "      <td>https://polisci.berkeley.edu/people/person/mat...</td>\n",
       "    </tr>\n",
       "    <tr>\n",
       "      <th>2</th>\n",
       "      <td>Sara Quigley</td>\n",
       "      <td>Based on the search results, I found informati...</td>\n",
       "      <td>{\"answer\": \"Graduate Division\", \"url\": \"https:...</td>\n",
       "      <td>Graduate Division</td>\n",
       "      <td>https://grad.berkeley.edu/staff/sara-quigley/</td>\n",
       "    </tr>\n",
       "  </tbody>\n",
       "</table>\n",
       "</div>"
      ],
      "text/plain": [
       "    survey_response                                              link1  \\\n",
       "0       Chris Soria  {\\n  \"answer\": \"Sociology\",\\n  \"url\": \"https:/...   \n",
       "1  Matthew Stenberg  Based on the search results, I can see that Ma...   \n",
       "2      Sara Quigley  Based on the search results, I found informati...   \n",
       "\n",
       "                                                json  \\\n",
       "0  {\"answer\": \"Sociology\", \"url\": \"https://christ...   \n",
       "1  {\"answer\": \"Political Science Department\", \"ur...   \n",
       "2  {\"answer\": \"Graduate Division\", \"url\": \"https:...   \n",
       "\n",
       "                         answer  \\\n",
       "0                     Sociology   \n",
       "1  Political Science Department   \n",
       "2             Graduate Division   \n",
       "\n",
       "                                                 url  \n",
       "0               https://christophersoria.tumblr.com/  \n",
       "1  https://polisci.berkeley.edu/people/person/mat...  \n",
       "2      https://grad.berkeley.edu/staff/sara-quigley/  "
      ]
     },
     "execution_count": 7,
     "metadata": {},
     "output_type": "execute_result"
    }
   ],
   "source": [
    "list_names = [\"Chris Soria\", \"Matthew Stenberg\", \"Sara Quigley\"]\n",
    "\n",
    "test1 = cat.build_web_research_dataset(\n",
    "    search_question=\"Academic Department they belong to at UC Berkeley?\",\n",
    "    search_input=list_names,\n",
    "    api_key=api_key,\n",
    "    answer_format=\"just the department name\",\n",
    "    time_delay=10,\n",
    "    user_model=\"claude-sonnet-4-20250514\")\n",
    "\n",
    "test1.head()"
   ]
  },
  {
   "cell_type": "markdown",
   "id": "7ef042ba",
   "metadata": {},
   "source": [
    "What happens if we direct it to a specific website, but the person doesn't appear on that webiste?\n",
    "It pulls the data from somewhere else"
   ]
  },
  {
   "cell_type": "code",
   "execution_count": 21,
   "id": "873f1f91",
   "metadata": {},
   "outputs": [
    {
     "name": "stdout",
     "output_type": "stream",
     "text": [
      "1. Answer\n",
      "2. URL\n"
     ]
    },
    {
     "name": "stderr",
     "output_type": "stream",
     "text": [
      "Building dataset:  33%|███▎      | 1/3 [00:12<00:24, 12.04s/it]"
     ]
    },
    {
     "name": "stdout",
     "output_type": "stream",
     "text": [
      "Based on my search results, I found information about Francoise Sorgen-Goldschmidt, who was a French professor at UC Berkeley. According to her LinkedIn profile, her education is listed as Sorbonne University. However, the search results do not specifically indicate that she has a PhD degree - they only mention her education at Sorbonne University without specifying the degree type.\n",
      "\n",
      "```json\n",
      "{\n",
      "    \"answer\": \"Not found\",\n",
      "    \"url\": \"https://www.linkedin.com/in/francoise-sorgen-goldschmidt-35908229/\"\n",
      "}\n",
      "```\n"
     ]
    },
    {
     "name": "stderr",
     "output_type": "stream",
     "text": [
      "Building dataset:  67%|██████▋   | 2/3 [00:32<00:16, 16.84s/it]"
     ]
    },
    {
     "name": "stdout",
     "output_type": "stream",
     "text": [
      "{\n",
      "\"answer\": \"Princeton University\",\n",
      "\"url\": \"https://publichealth.berkeley.edu/people/ayesha-mahmud\"\n",
      "}\n"
     ]
    },
    {
     "name": "stderr",
     "output_type": "stream",
     "text": [
      "Building dataset: 100%|██████████| 3/3 [00:53<00:00, 17.71s/it]"
     ]
    },
    {
     "name": "stdout",
     "output_type": "stream",
     "text": [
      "Based on the search results, I found information about Dennis Feehan's PhD. According to his CV and multiple official sources, he completed his PhD at Princeton University.\n",
      "\n",
      "```json\n",
      "{\n",
      "    \"answer\": \"Princeton University\",\n",
      "    \"url\": \"https://dennisfeehan.org/cv/cv.html\"\n",
      "}\n",
      "```\n"
     ]
    },
    {
     "name": "stderr",
     "output_type": "stream",
     "text": [
      "\n"
     ]
    },
    {
     "data": {
      "text/html": [
       "<div>\n",
       "<style scoped>\n",
       "    .dataframe tbody tr th:only-of-type {\n",
       "        vertical-align: middle;\n",
       "    }\n",
       "\n",
       "    .dataframe tbody tr th {\n",
       "        vertical-align: top;\n",
       "    }\n",
       "\n",
       "    .dataframe thead th {\n",
       "        text-align: right;\n",
       "    }\n",
       "</style>\n",
       "<table border=\"1\" class=\"dataframe\">\n",
       "  <thead>\n",
       "    <tr style=\"text-align: right;\">\n",
       "      <th></th>\n",
       "      <th>survey_response</th>\n",
       "      <th>link1</th>\n",
       "      <th>json</th>\n",
       "      <th>answer</th>\n",
       "      <th>url</th>\n",
       "    </tr>\n",
       "  </thead>\n",
       "  <tbody>\n",
       "    <tr>\n",
       "      <th>0</th>\n",
       "      <td>Francoise Sorgen</td>\n",
       "      <td>Based on my search results, I found informatio...</td>\n",
       "      <td>{\"answer\": \"Not found\", \"url\": \"https://www.li...</td>\n",
       "      <td>Not found</td>\n",
       "      <td>https://www.linkedin.com/in/francoise-sorgen-g...</td>\n",
       "    </tr>\n",
       "    <tr>\n",
       "      <th>1</th>\n",
       "      <td>Ayesha Mahmud</td>\n",
       "      <td>{\\n\"answer\": \"Princeton University\",\\n\"url\": \"...</td>\n",
       "      <td>{\"answer\": \"Princeton University\", \"url\": \"htt...</td>\n",
       "      <td>Princeton University</td>\n",
       "      <td>https://publichealth.berkeley.edu/people/ayesh...</td>\n",
       "    </tr>\n",
       "    <tr>\n",
       "      <th>2</th>\n",
       "      <td>Dennis Feehan</td>\n",
       "      <td>Based on the search results, I found informati...</td>\n",
       "      <td>{\"answer\": \"Princeton University\", \"url\": \"htt...</td>\n",
       "      <td>Princeton University</td>\n",
       "      <td>https://dennisfeehan.org/cv/cv.html</td>\n",
       "    </tr>\n",
       "  </tbody>\n",
       "</table>\n",
       "</div>"
      ],
      "text/plain": [
       "    survey_response                                              link1  \\\n",
       "0  Francoise Sorgen  Based on my search results, I found informatio...   \n",
       "1     Ayesha Mahmud  {\\n\"answer\": \"Princeton University\",\\n\"url\": \"...   \n",
       "2     Dennis Feehan  Based on the search results, I found informati...   \n",
       "\n",
       "                                                json                answer  \\\n",
       "0  {\"answer\": \"Not found\", \"url\": \"https://www.li...             Not found   \n",
       "1  {\"answer\": \"Princeton University\", \"url\": \"htt...  Princeton University   \n",
       "2  {\"answer\": \"Princeton University\", \"url\": \"htt...  Princeton University   \n",
       "\n",
       "                                                 url  \n",
       "0  https://www.linkedin.com/in/francoise-sorgen-g...  \n",
       "1  https://publichealth.berkeley.edu/people/ayesh...  \n",
       "2                https://dennisfeehan.org/cv/cv.html  "
      ]
     },
     "execution_count": 21,
     "metadata": {},
     "output_type": "execute_result"
    }
   ],
   "source": [
    "list_names = [\"Francoise Sorgen\", \"Ayesha Mahmud\", \"Dennis Feehan\"]\n",
    "\n",
    "test3 = cat.build_web_research_dataset(\n",
    "    search_question=\"Where these UC Berkeley professors got their PhD according to Linkedin?\",\n",
    "    search_input=list_names,\n",
    "    api_key=api_key,\n",
    "    answer_format=\"just the school name\",\n",
    "    time_delay=15,\n",
    "    user_model=\"claude-sonnet-4-20250514\",\n",
    "    safety=True,\n",
    "    additional_instructions=\"Do not give me information for any degree that's not a PhD degree. If you can't find that they have a PhD, just say 'Not found'\" # extra instruction to improve accuracy\n",
    ")\n",
    "\n",
    "test3"
   ]
  },
  {
   "cell_type": "markdown",
   "id": "8292f241",
   "metadata": {},
   "source": [
    "What happens if i give it a city name that's confusing? \n",
    "It fails to find the city's weather. "
   ]
  },
  {
   "cell_type": "code",
   "execution_count": 20,
   "id": "bfc076a2",
   "metadata": {},
   "outputs": [
    {
     "name": "stdout",
     "output_type": "stream",
     "text": [
      "1. Answer\n",
      "2. URL\n"
     ]
    },
    {
     "name": "stderr",
     "output_type": "stream",
     "text": [
      "Building dataset:  33%|███▎      | 1/3 [00:05<00:10,  5.10s/it]"
     ]
    },
    {
     "name": "stdout",
     "output_type": "stream",
     "text": [
      "{\n",
      "  \"answer\": \"90°F\",\n",
      "  \"url\": \"https://www.extremeweatherwatch.com/cities/monterey/year-2024\"\n",
      "}\n"
     ]
    },
    {
     "name": "stderr",
     "output_type": "stream",
     "text": [
      "Building dataset:  67%|██████▋   | 2/3 [01:13<00:42, 42.49s/it]"
     ]
    },
    {
     "name": "stdout",
     "output_type": "stream",
     "text": [
      "{\n",
      "  \"answer\": \"94°F\",\n",
      "  \"url\": \"https://www.extremeweatherwatch.com/cities/san-diego/year-2024\"\n",
      "}\n"
     ]
    },
    {
     "name": "stderr",
     "output_type": "stream",
     "text": [
      "Building dataset: 100%|██████████| 3/3 [01:47<00:00, 35.88s/it]"
     ]
    },
    {
     "name": "stdout",
     "output_type": "stream",
     "text": [
      "Based on my search results, I was unable to find specific information about Paris, Texas's hottest temperature in 2024 from extremeweatherwatch.com. The search results show data for Paris, France in 2024 and Paris, Texas for 2023, but not the specific 2024 data for Paris, Texas that was requested.\n",
      "\n",
      "```json\n",
      "{\n",
      "    \"answer\": \"Information not found\",\n",
      "    \"url\": \"No source available\"\n",
      "}\n",
      "```\n"
     ]
    },
    {
     "name": "stderr",
     "output_type": "stream",
     "text": [
      "\n"
     ]
    },
    {
     "data": {
      "text/html": [
       "<div>\n",
       "<style scoped>\n",
       "    .dataframe tbody tr th:only-of-type {\n",
       "        vertical-align: middle;\n",
       "    }\n",
       "\n",
       "    .dataframe tbody tr th {\n",
       "        vertical-align: top;\n",
       "    }\n",
       "\n",
       "    .dataframe thead th {\n",
       "        text-align: right;\n",
       "    }\n",
       "</style>\n",
       "<table border=\"1\" class=\"dataframe\">\n",
       "  <thead>\n",
       "    <tr style=\"text-align: right;\">\n",
       "      <th></th>\n",
       "      <th>survey_response</th>\n",
       "      <th>link1</th>\n",
       "      <th>json</th>\n",
       "      <th>answer</th>\n",
       "      <th>url</th>\n",
       "    </tr>\n",
       "  </thead>\n",
       "  <tbody>\n",
       "    <tr>\n",
       "      <th>0</th>\n",
       "      <td>Monterey, CA</td>\n",
       "      <td>{\\n  \"answer\": \"90°F\",\\n  \"url\": \"https://www....</td>\n",
       "      <td>{\"answer\": \"90\\u00b0F\", \"url\": \"https://www.ex...</td>\n",
       "      <td>90°F</td>\n",
       "      <td>https://www.extremeweatherwatch.com/cities/mon...</td>\n",
       "    </tr>\n",
       "    <tr>\n",
       "      <th>1</th>\n",
       "      <td>San Diego, CA</td>\n",
       "      <td>{\\n  \"answer\": \"94°F\",\\n  \"url\": \"https://www....</td>\n",
       "      <td>{\"answer\": \"94\\u00b0F\", \"url\": \"https://www.ex...</td>\n",
       "      <td>94°F</td>\n",
       "      <td>https://www.extremeweatherwatch.com/cities/san...</td>\n",
       "    </tr>\n",
       "    <tr>\n",
       "      <th>2</th>\n",
       "      <td>Paris, Texas in United States</td>\n",
       "      <td>Based on my search results, I was unable to fi...</td>\n",
       "      <td>{\"answer\": \"Information not found\", \"url\": \"No...</td>\n",
       "      <td>Information not found</td>\n",
       "      <td>No source available</td>\n",
       "    </tr>\n",
       "  </tbody>\n",
       "</table>\n",
       "</div>"
      ],
      "text/plain": [
       "                 survey_response  \\\n",
       "0                   Monterey, CA   \n",
       "1                  San Diego, CA   \n",
       "2  Paris, Texas in United States   \n",
       "\n",
       "                                               link1  \\\n",
       "0  {\\n  \"answer\": \"90°F\",\\n  \"url\": \"https://www....   \n",
       "1  {\\n  \"answer\": \"94°F\",\\n  \"url\": \"https://www....   \n",
       "2  Based on my search results, I was unable to fi...   \n",
       "\n",
       "                                                json                 answer  \\\n",
       "0  {\"answer\": \"90\\u00b0F\", \"url\": \"https://www.ex...                   90°F   \n",
       "1  {\"answer\": \"94\\u00b0F\", \"url\": \"https://www.ex...                   94°F   \n",
       "2  {\"answer\": \"Information not found\", \"url\": \"No...  Information not found   \n",
       "\n",
       "                                                 url  \n",
       "0  https://www.extremeweatherwatch.com/cities/mon...  \n",
       "1  https://www.extremeweatherwatch.com/cities/san...  \n",
       "2                                No source available  "
      ]
     },
     "execution_count": 20,
     "metadata": {},
     "output_type": "execute_result"
    }
   ],
   "source": [
    "list_names = [\"Monterey, CA\", \"San Diego, CA\", \"Paris, Texas\"]\n",
    "list_names_specific = [\"Monterey, CA\", \"San Diego, CA\", \"Paris, Texas in United States\"]\n",
    "\n",
    "test2 = cat.build_web_research_dataset(\n",
    "    search_question=\"Hottest temperature in 2024 from extremeweatherwatch?\",\n",
    "    search_input=list_names_specific,\n",
    "    api_key=api_key,\n",
    "    answer_format=\"just the temperature in Fahrenheit\",\n",
    "    time_delay=15,\n",
    "    user_model=\"claude-sonnet-4-20250514\"\n",
    ")\n",
    "\n",
    "test2"
   ]
  },
  {
   "cell_type": "markdown",
   "id": "0574a818",
   "metadata": {},
   "source": [
    "Google actually finds Paris Texas!"
   ]
  },
  {
   "cell_type": "code",
   "execution_count": null,
   "id": "30097afe",
   "metadata": {},
   "outputs": [
    {
     "name": "stdout",
     "output_type": "stream",
     "text": [
      "1. Answer\n",
      "2. URL\n"
     ]
    },
    {
     "name": "stderr",
     "output_type": "stream",
     "text": [
      "Building dataset: 100%|██████████| 3/3 [00:42<00:00, 14.07s/it]\n"
     ]
    },
    {
     "data": {
      "text/html": [
       "<div>\n",
       "<style scoped>\n",
       "    .dataframe tbody tr th:only-of-type {\n",
       "        vertical-align: middle;\n",
       "    }\n",
       "\n",
       "    .dataframe tbody tr th {\n",
       "        vertical-align: top;\n",
       "    }\n",
       "\n",
       "    .dataframe thead th {\n",
       "        text-align: right;\n",
       "    }\n",
       "</style>\n",
       "<table border=\"1\" class=\"dataframe\">\n",
       "  <thead>\n",
       "    <tr style=\"text-align: right;\">\n",
       "      <th></th>\n",
       "      <th>survey_response</th>\n",
       "      <th>link1</th>\n",
       "      <th>json</th>\n",
       "      <th>answer</th>\n",
       "      <th>url</th>\n",
       "    </tr>\n",
       "  </thead>\n",
       "  <tbody>\n",
       "    <tr>\n",
       "      <th>0</th>\n",
       "      <td>Monterey, CA</td>\n",
       "      <td>```json\\n{\\n\"answer\": \"90 °F\",\\n\"url\": \"https:...</td>\n",
       "      <td>{\"answer\": \"90 \\u00b0F\", \"url\": \"https://verte...</td>\n",
       "      <td>90 °F</td>\n",
       "      <td>https://vertexaisearch.cloud.google.com/ground...</td>\n",
       "    </tr>\n",
       "    <tr>\n",
       "      <th>1</th>\n",
       "      <td>San Diego, CA</td>\n",
       "      <td>```json\\n{\\n\"answer\": \"94 °F\",\\n\"url\": \"https:...</td>\n",
       "      <td>{\"answer\": \"94 \\u00b0F\", \"url\": \"https://verte...</td>\n",
       "      <td>94 °F</td>\n",
       "      <td>https://vertexaisearch.cloud.google.com/ground...</td>\n",
       "    </tr>\n",
       "    <tr>\n",
       "      <th>2</th>\n",
       "      <td>Paris, Texas in United States</td>\n",
       "      <td>```json\\n{\\n\"answer\": \"107 °F\",\\n\"url\": \"https...</td>\n",
       "      <td>{\"answer\": \"107 \\u00b0F\", \"url\": \"https://vert...</td>\n",
       "      <td>107 °F</td>\n",
       "      <td>https://vertexaisearch.cloud.google.com/ground...</td>\n",
       "    </tr>\n",
       "  </tbody>\n",
       "</table>\n",
       "</div>"
      ],
      "text/plain": [
       "                 survey_response  \\\n",
       "0                   Monterey, CA   \n",
       "1                  San Diego, CA   \n",
       "2  Paris, Texas in United States   \n",
       "\n",
       "                                               link1  \\\n",
       "0  ```json\\n{\\n\"answer\": \"90 °F\",\\n\"url\": \"https:...   \n",
       "1  ```json\\n{\\n\"answer\": \"94 °F\",\\n\"url\": \"https:...   \n",
       "2  ```json\\n{\\n\"answer\": \"107 °F\",\\n\"url\": \"https...   \n",
       "\n",
       "                                                json  answer  \\\n",
       "0  {\"answer\": \"90 \\u00b0F\", \"url\": \"https://verte...   90 °F   \n",
       "1  {\"answer\": \"94 \\u00b0F\", \"url\": \"https://verte...   94 °F   \n",
       "2  {\"answer\": \"107 \\u00b0F\", \"url\": \"https://vert...  107 °F   \n",
       "\n",
       "                                                 url  \n",
       "0  https://vertexaisearch.cloud.google.com/ground...  \n",
       "1  https://vertexaisearch.cloud.google.com/ground...  \n",
       "2  https://vertexaisearch.cloud.google.com/ground...  "
      ]
     },
     "execution_count": 15,
     "metadata": {},
     "output_type": "execute_result"
    }
   ],
   "source": [
    "list_names = [\"Monterey, CA\", \"San Diego, CA\", \"Paris, Texas\"]\n",
    "list_names_specific = [\"Monterey, CA\", \"San Diego, CA\", \"Paris, Texas in United States\"]\n",
    "\n",
    "test2 = cat.build_web_research_dataset(\n",
    "    search_question=\"Hottest temperature in 2024 from extremeweatherwatch?\",\n",
    "    search_input=list_names_specific,\n",
    "    api_key=os.getenv(\"GOOGLE_API_KEY\"),\n",
    "    answer_format=\"just the temperature in Fahrenheit\",\n",
    "    time_delay=15,\n",
    "    model_source=\"Google\",\n",
    "    user_model=\"gemini-2.5-flash\" #older models don't seem to work with google search tools\n",
    ")\n",
    "\n",
    "test2"
   ]
  },
  {
   "cell_type": "markdown",
   "id": "76843a4e",
   "metadata": {},
   "source": [
    "Google correctly finds me"
   ]
  },
  {
   "cell_type": "code",
   "execution_count": null,
   "id": "8c2b465b",
   "metadata": {},
   "outputs": [
    {
     "name": "stdout",
     "output_type": "stream",
     "text": [
      "1. Answer\n",
      "2. URL\n"
     ]
    },
    {
     "name": "stderr",
     "output_type": "stream",
     "text": [
      "Building dataset: 100%|██████████| 3/3 [00:32<00:00, 10.82s/it]\n"
     ]
    },
    {
     "data": {
      "text/html": [
       "<div>\n",
       "<style scoped>\n",
       "    .dataframe tbody tr th:only-of-type {\n",
       "        vertical-align: middle;\n",
       "    }\n",
       "\n",
       "    .dataframe tbody tr th {\n",
       "        vertical-align: top;\n",
       "    }\n",
       "\n",
       "    .dataframe thead th {\n",
       "        text-align: right;\n",
       "    }\n",
       "</style>\n",
       "<table border=\"1\" class=\"dataframe\">\n",
       "  <thead>\n",
       "    <tr style=\"text-align: right;\">\n",
       "      <th></th>\n",
       "      <th>survey_response</th>\n",
       "      <th>link1</th>\n",
       "      <th>json</th>\n",
       "      <th>answer</th>\n",
       "      <th>url</th>\n",
       "    </tr>\n",
       "  </thead>\n",
       "  <tbody>\n",
       "    <tr>\n",
       "      <th>0</th>\n",
       "      <td>Chris Soria</td>\n",
       "      <td>```json\\n{\\n \"answer\": \"Demography\",\\n \"url\": ...</td>\n",
       "      <td>{\"answer\": \"Demography\", \"url\": \"https://verte...</td>\n",
       "      <td>Demography</td>\n",
       "      <td>https://vertexaisearch.cloud.google.com/ground...</td>\n",
       "    </tr>\n",
       "    <tr>\n",
       "      <th>1</th>\n",
       "      <td>Matthew Stenberg</td>\n",
       "      <td>```json\\n{\\n\"answer\": \"Political Science\",\\n\"u...</td>\n",
       "      <td>{\"answer\": \"Political Science\", \"url\": \"https:...</td>\n",
       "      <td>Political Science</td>\n",
       "      <td>https://politicalscience.berkeley.edu/people/1...</td>\n",
       "    </tr>\n",
       "    <tr>\n",
       "      <th>2</th>\n",
       "      <td>Sara Quigley</td>\n",
       "      <td>```json\\n{\\n\"answer\": \"Information not found\",...</td>\n",
       "      <td>{\"answer\": \"Information not found\", \"url\": \"No...</td>\n",
       "      <td>Information not found</td>\n",
       "      <td>No source available</td>\n",
       "    </tr>\n",
       "  </tbody>\n",
       "</table>\n",
       "</div>"
      ],
      "text/plain": [
       "    survey_response                                              link1  \\\n",
       "0       Chris Soria  ```json\\n{\\n \"answer\": \"Demography\",\\n \"url\": ...   \n",
       "1  Matthew Stenberg  ```json\\n{\\n\"answer\": \"Political Science\",\\n\"u...   \n",
       "2      Sara Quigley  ```json\\n{\\n\"answer\": \"Information not found\",...   \n",
       "\n",
       "                                                json                 answer  \\\n",
       "0  {\"answer\": \"Demography\", \"url\": \"https://verte...             Demography   \n",
       "1  {\"answer\": \"Political Science\", \"url\": \"https:...      Political Science   \n",
       "2  {\"answer\": \"Information not found\", \"url\": \"No...  Information not found   \n",
       "\n",
       "                                                 url  \n",
       "0  https://vertexaisearch.cloud.google.com/ground...  \n",
       "1  https://politicalscience.berkeley.edu/people/1...  \n",
       "2                                No source available  "
      ]
     },
     "execution_count": 17,
     "metadata": {},
     "output_type": "execute_result"
    }
   ],
   "source": [
    "list_names = [\"Chris Soria\", \"Matthew Stenberg\", \"Sara Quigley\"]\n",
    "\n",
    "test1 = cat.build_web_research_dataset(\n",
    "    search_question=\"Academic Department they belong to at UC Berkeley?\",\n",
    "    search_input=list_names,\n",
    "    api_key=os.getenv(\"GOOGLE_API_KEY\"),\n",
    "    answer_format=\"just the department name\",\n",
    "    time_delay=10,\n",
    "    model_source=\"Google\",\n",
    "    user_model=\"gemini-2.5-flash\" #older models don't seem to work with google search tools\n",
    ")\n",
    "test1.head()"
   ]
  },
  {
   "cell_type": "markdown",
   "id": "dcdd5687",
   "metadata": {},
   "source": [
    "Does as well as Anthropic"
   ]
  },
  {
   "cell_type": "code",
   "execution_count": null,
   "id": "9d166f23",
   "metadata": {},
   "outputs": [
    {
     "name": "stdout",
     "output_type": "stream",
     "text": [
      "1. Answer\n",
      "2. URL\n"
     ]
    },
    {
     "name": "stderr",
     "output_type": "stream",
     "text": [
      "Building dataset: 100%|██████████| 3/3 [00:50<00:00, 16.92s/it]\n"
     ]
    },
    {
     "data": {
      "text/html": [
       "<div>\n",
       "<style scoped>\n",
       "    .dataframe tbody tr th:only-of-type {\n",
       "        vertical-align: middle;\n",
       "    }\n",
       "\n",
       "    .dataframe tbody tr th {\n",
       "        vertical-align: top;\n",
       "    }\n",
       "\n",
       "    .dataframe thead th {\n",
       "        text-align: right;\n",
       "    }\n",
       "</style>\n",
       "<table border=\"1\" class=\"dataframe\">\n",
       "  <thead>\n",
       "    <tr style=\"text-align: right;\">\n",
       "      <th></th>\n",
       "      <th>survey_response</th>\n",
       "      <th>link1</th>\n",
       "      <th>json</th>\n",
       "      <th>answer</th>\n",
       "      <th>url</th>\n",
       "    </tr>\n",
       "  </thead>\n",
       "  <tbody>\n",
       "    <tr>\n",
       "      <th>0</th>\n",
       "      <td>Francoise Sorgen</td>\n",
       "      <td>```json\\n{\\n\"answer\": \"Information not found\",...</td>\n",
       "      <td>{\"answer\": \"Information not found\", \"url\": \"No...</td>\n",
       "      <td>Information not found</td>\n",
       "      <td>No source available</td>\n",
       "    </tr>\n",
       "    <tr>\n",
       "      <th>1</th>\n",
       "      <td>Ayesha Mahmud</td>\n",
       "      <td>```json\\n{\\n\"answer\": \"Princeton University\",\\...</td>\n",
       "      <td>{\"answer\": \"Princeton University\", \"url\": \"htt...</td>\n",
       "      <td>Princeton University</td>\n",
       "      <td>https://vertexaisearch.cloud.google.com/ground...</td>\n",
       "    </tr>\n",
       "    <tr>\n",
       "      <th>2</th>\n",
       "      <td>Dennis Feehan</td>\n",
       "      <td>```json\\n{\\n\"answer\": \"Princeton University\",\\...</td>\n",
       "      <td>{\"answer\": \"Princeton University\", \"url\": \"htt...</td>\n",
       "      <td>Princeton University</td>\n",
       "      <td>https://vertexaisearch.cloud.google.com/ground...</td>\n",
       "    </tr>\n",
       "  </tbody>\n",
       "</table>\n",
       "</div>"
      ],
      "text/plain": [
       "    survey_response                                              link1  \\\n",
       "0  Francoise Sorgen  ```json\\n{\\n\"answer\": \"Information not found\",...   \n",
       "1     Ayesha Mahmud  ```json\\n{\\n\"answer\": \"Princeton University\",\\...   \n",
       "2     Dennis Feehan  ```json\\n{\\n\"answer\": \"Princeton University\",\\...   \n",
       "\n",
       "                                                json                 answer  \\\n",
       "0  {\"answer\": \"Information not found\", \"url\": \"No...  Information not found   \n",
       "1  {\"answer\": \"Princeton University\", \"url\": \"htt...   Princeton University   \n",
       "2  {\"answer\": \"Princeton University\", \"url\": \"htt...   Princeton University   \n",
       "\n",
       "                                                 url  \n",
       "0                                No source available  \n",
       "1  https://vertexaisearch.cloud.google.com/ground...  \n",
       "2  https://vertexaisearch.cloud.google.com/ground...  "
      ]
     },
     "execution_count": 19,
     "metadata": {},
     "output_type": "execute_result"
    }
   ],
   "source": [
    "list_names = [\"Francoise Sorgen\", \"Ayesha Mahmud\", \"Dennis Feehan\"]\n",
    "\n",
    "test3 = cat.build_web_research_dataset(\n",
    "    search_question=\"Where these UC Berkeley professors got their PhD according to Linkedin?\",\n",
    "    search_input=list_names,\n",
    "    api_key=os.getenv(\"GOOGLE_API_KEY\"),\n",
    "    answer_format=\"just the school name\",\n",
    "    time_delay=15,\n",
    "    model_source=\"Google\",\n",
    "    user_model=\"gemini-2.5-flash\", #older models don't seem to work with google search tools\n",
    "    safety=True,\n",
    "    additional_instructions=\"Do not give me information for any degree that's not a PhD degree. If you can't find that they have a PhD, just say 'Not found'\" # extra instruction to improve accuracy\n",
    ")\n",
    "\n",
    "test3"
   ]
  }
 ],
 "metadata": {
  "kernelspec": {
   "display_name": "AI",
   "language": "python",
   "name": "python3"
  },
  "language_info": {
   "codemirror_mode": {
    "name": "ipython",
    "version": 3
   },
   "file_extension": ".py",
   "mimetype": "text/x-python",
   "name": "python",
   "nbconvert_exporter": "python",
   "pygments_lexer": "ipython3",
   "version": "3.8.18"
  }
 },
 "nbformat": 4,
 "nbformat_minor": 5
}
